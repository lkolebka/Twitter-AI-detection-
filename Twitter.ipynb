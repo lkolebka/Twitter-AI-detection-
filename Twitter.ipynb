{
  "nbformat": 4,
  "nbformat_minor": 0,
  "metadata": {
    "colab": {
      "provenance": [],
      "collapsed_sections": [],
      "authorship_tag": "ABX9TyNTfjkUo25ohHEFxNwQ//uX",
      "include_colab_link": true
    },
    "kernelspec": {
      "name": "python3",
      "display_name": "Python 3"
    },
    "language_info": {
      "name": "python"
    }
  },
  "cells": [
    {
      "cell_type": "markdown",
      "metadata": {
        "id": "view-in-github",
        "colab_type": "text"
      },
      "source": [
        "<a href=\"https://colab.research.google.com/github/lkolebka/Twitter-AI-detection-/blob/main/Twitter.ipynb\" target=\"_parent\"><img src=\"https://colab.research.google.com/assets/colab-badge.svg\" alt=\"Open In Colab\"/></a>"
      ]
    },
    {
      "cell_type": "code",
      "source": [
        "! pip uninstall tweepy"
      ],
      "metadata": {
        "id": "CKRjLG-leMYh"
      },
      "execution_count": null,
      "outputs": []
    },
    {
      "cell_type": "code",
      "source": [
        "import re \n",
        "import numpy as np \n",
        "import tweepy\n",
        "from tweepy import OAuthHandler \n",
        "from textblob import TextBlob \n",
        "import matplotlib.pyplot as plt\n",
        "import pandas as pd\n",
        "from wordcloud import WordCloud\n",
        "!pip install better-profanity"
      ],
      "metadata": {
        "id": "m72okBCFaCbr"
      },
      "execution_count": null,
      "outputs": []
    },
    {
      "cell_type": "code",
      "source": [
        "from better_profanity import profanity"
      ],
      "metadata": {
        "id": "rBEK3kYOjYoP"
      },
      "execution_count": 22,
      "outputs": []
    },
    {
      "cell_type": "code",
      "source": [
        "exit ()\n"
      ],
      "metadata": {
        "id": "GW32JXsVemcv"
      },
      "execution_count": 1,
      "outputs": []
    },
    {
      "cell_type": "code",
      "source": [
        "#Definining the access token for the App\n",
        "\n",
        "consumer_key = ''\n",
        "consumer_secret = '' \n",
        "access_token = ''\n",
        "access_token_secret = ''"
      ],
      "metadata": {
        "id": "mCTv1rbjaet7"
      },
      "execution_count": 6,
      "outputs": []
    },
    {
      "cell_type": "code",
      "source": [
        "# Access Twitter Data\n",
        "\n",
        "auth = tweepy.OAuthHandler(consumer_key, consumer_secret)\n",
        "auth.set_access_token(access_token, access_token_secret)\n",
        "\n",
        "api = tweepy.API(auth)"
      ],
      "metadata": {
        "id": "6ZLy7UXBb5_L"
      },
      "execution_count": 7,
      "outputs": []
    },
    {
      "cell_type": "code",
      "source": [
        "# Input a query from the user\n",
        "\n",
        "query = input(\"Please enter your topic / person of interest: \")\n",
        "\n",
        "# Filter the query to remove retweets\n",
        "\n",
        "filtered = query + \"-filter:retweets\"\n",
        "\n",
        "# Generate the latest tweets on the given query \n",
        "\n",
        "tweets = tweepy.Cursor(api.search_tweets, \n",
        "                           q=filtered,\n",
        "                           lang=\"en\").items(100)\n",
        "\n",
        "# Create a list of the tweets, the users, and their location\n",
        "\n",
        "list1 = [[tweet.text, tweet.user.screen_name, tweet.user.location] for tweet in tweets]"
      ],
      "metadata": {
        "id": "V1sdUWixcQp7"
      },
      "execution_count": null,
      "outputs": []
    },
    {
      "cell_type": "code",
      "source": [
        "# Convert the list into a dataframe\n",
        "\n",
        "df = pd.DataFrame(data=list1, \n",
        "                    columns=['tweets','user', \"location\"])\n",
        "# Convert only the tweets into a list\n",
        "\n",
        "tweet_list = df.tweets.to_list()"
      ],
      "metadata": {
        "id": "_cgrFQ9xc0TB"
      },
      "execution_count": 115,
      "outputs": []
    },
    {
      "cell_type": "code",
      "source": [
        "# raw Tweets list\n",
        "tweet_list"
      ],
      "metadata": {
        "id": "kz3B-5k9iVCP"
      },
      "execution_count": null,
      "outputs": []
    },
    {
      "cell_type": "code",
      "source": [
        "# Create a function to clean the tweets. Remove profanity, unnecessary characters, spaces, and stopwords.\n",
        "\n",
        "def clean_tweet(tweet):\n",
        "    if type(tweet) == np.float:\n",
        "        return \"\"\n",
        "    r = tweet.lower()\n",
        "    r = profanity.censor(r)\n",
        "    r = re.sub(\"'\", \"\", r) # This is to avoid removing contractions in english\n",
        "    r = re.sub(\"@[A-Za-z0-9_]+\",\"\", r)\n",
        "    r = re.sub(\"#[A-Za-z0-9_]+\",\"\", r)\n",
        "    r = re.sub(r'http\\S+', '', r)\n",
        "    r = re.sub('[()!?]', ' ', r)\n",
        "    r = re.sub('\\[.*?\\]',' ', r)\n",
        "    r = re.sub(\"[^a-z0-9]\",\" \", r)\n",
        "    r = r.split()\n",
        "    stopwords = [\"for\", \"on\", \"an\", \"a\", \"of\", \"and\", \"in\", \"the\", \"to\", \"from\"]\n",
        "    r = [w for w in r if not w in stopwords]\n",
        "    r = \" \".join(word for word in r)\n",
        "    return r"
      ],
      "metadata": {
        "id": "jsMkkGg4c-XD"
      },
      "execution_count": 117,
      "outputs": []
    },
    {
      "cell_type": "code",
      "source": [
        "cleaned = [clean_tweet(tw) for tw in tweet_list]\n",
        "cleaned"
      ],
      "metadata": {
        "id": "1c_FbkY7i4eC"
      },
      "execution_count": null,
      "outputs": []
    },
    {
      "cell_type": "code",
      "source": [
        "# Define the sentiment objects using TextBlob\n",
        "\n",
        "sentiment_objects = [TextBlob(tweet) for tweet in cleaned]\n",
        "\n",
        "sentiment_objects[0].polarity, sentiment_objects[0]"
      ],
      "metadata": {
        "colab": {
          "base_uri": "https://localhost:8080/"
        },
        "id": "wafECM3pkR-9",
        "outputId": "446a4d54-1eed-4cfc-9294-7a86761f0c13"
      },
      "execution_count": 119,
      "outputs": [
        {
          "output_type": "execute_result",
          "data": {
            "text/plain": [
              "(0.0, TextBlob(\"no hes leaving because elon musk\"))"
            ]
          },
          "metadata": {},
          "execution_count": 119
        }
      ]
    },
    {
      "cell_type": "code",
      "source": [
        "# Create a list of polarity values and tweet text\n",
        "\n",
        "sentiment_values = [[tweet.sentiment.polarity, str(tweet)] for tweet in sentiment_objects]\n",
        "\n",
        "# Print the value of the 0th row.\n",
        "\n",
        "sentiment_values[0]\n",
        "\n",
        "# Print all the sentiment values\n",
        "\n",
        "sentiment_values[0:99]"
      ],
      "metadata": {
        "id": "BtCuppQ-kZWg"
      },
      "execution_count": null,
      "outputs": []
    },
    {
      "cell_type": "code",
      "source": [
        "# Create a dataframe of each tweet against its polarity\n",
        "\n",
        "sentiment_df = pd.DataFrame(sentiment_values, columns=[\"polarity\", \"tweet\"])\n",
        "\n",
        "sentiment_df"
      ],
      "metadata": {
        "id": "yGs861cFkgHq"
      },
      "execution_count": null,
      "outputs": []
    },
    {
      "cell_type": "code",
      "source": [
        "#Custom  : create a dataframe of each tweet against its polarity and add the Result of the popularity\n",
        "\n",
        "sentiment_df = pd.DataFrame(sentiment_values, columns=[\"polarity\", \"tweet\",])\n",
        "\n",
        "\n",
        "# Generate result using pandas\n",
        "result = []\n",
        "for value in sentiment_df[\"polarity\"]:\n",
        "    if value > 0:\n",
        "        result.append(\"Positive\")\n",
        "    elif value < 0 : \n",
        "        result.append(\"Negative\")\n",
        "    else:\n",
        "        result.append(\"Neutral\")\n",
        "      \n",
        "sentiment_df[\"Result\"] = result  \n",
        "print(sentiment_df)\n",
        "\n",
        "#specify the name of the file \n",
        "nameFile = \"twitter.csv\" \n",
        "\n",
        "#encoding of the file\n",
        "sentiment_df.to_csv(nameFile, sep='\\t', encoding='utf-8')\n",
        "\n",
        "#download the file \n",
        "from google.colab import files\n",
        "files.download(nameFile)\n",
        "\n"
      ],
      "metadata": {
        "id": "Z6WTaj8u8Xgz"
      },
      "execution_count": null,
      "outputs": []
    },
    {
      "cell_type": "code",
      "source": [
        "# Save the tweet column as 't'.\n",
        "\n",
        "t=sentiment_df['tweet']\n",
        "\n",
        "# Save the polarity column as 'n'.\n",
        "\n",
        "n=sentiment_df[\"polarity\"]\n",
        "\n",
        "# Convert this column into a series, 'm'. \n",
        "\n",
        "m=pd.Series(n)\n",
        "\n",
        "m"
      ],
      "metadata": {
        "id": "uijh3_t-koQm"
      },
      "execution_count": null,
      "outputs": []
    },
    {
      "cell_type": "code",
      "source": [
        "# Initialize variables, 'pos', 'neg', 'neu'.\n",
        "\n",
        "pos=0\n",
        "neg=0\n",
        "neu=0\n",
        "\n",
        "# Create a loop to classify the tweets as Positive, Negative, or Neutral.\n",
        "# Count the number of each.\n",
        "\n",
        "\n",
        "for items in m:\n",
        "\n",
        "\n",
        "    if items>0:\n",
        "        print(\"Positive\"),\n",
        "        pos=pos+1\n",
        "    elif items<0:\n",
        "        print(\"Negative\")\n",
        "        neg=neg+1\n",
        "    else:\n",
        "        print(\"Neutral\")\n",
        "        neu=neu+1\n",
        "        \n",
        "print(\"Positive : \", pos)\n",
        "print(\"Negative : \", neg)\n",
        "print(\"Neutre : \", neu)\n",
        "\n",
        "print(my_loop)"
      ],
      "metadata": {
        "id": "ozQPgfe0k6eq"
      },
      "execution_count": null,
      "outputs": []
    },
    {
      "cell_type": "code",
      "source": [
        "# Creation of a data shart\n",
        "pieLabels=[\"Positive\",\"Negative\",\"Neutral\"]\n",
        "\n",
        "populationShare=[pos,neg,neu]\n",
        "\n",
        "figureObject, axesObject = plt.subplots()\n",
        "\n",
        "axesObject.pie(populationShare,labels=pieLabels,autopct='%1.2f',startangle=90)\n",
        "\n",
        "axesObject.axis('equal')\n",
        "\n",
        "plt.show()"
      ],
      "metadata": {
        "id": "8ZiQ5ZXRlKKe"
      },
      "execution_count": null,
      "outputs": []
    },
    {
      "cell_type": "code",
      "source": [
        "# Create a Wordcloud from the tweets\n",
        "\n",
        "all_words = ' '.join([text for text in cleaned])\n",
        "wordcloud = WordCloud(width=800, height=500, random_state=21, max_font_size=110).generate(all_words)\n",
        "\n",
        "plt.figure(figsize=(10, 7))\n",
        "plt.imshow(wordcloud, interpolation=\"bilinear\")\n",
        "plt.axis('off')\n",
        "plt.show()"
      ],
      "metadata": {
        "id": "bmiWnpJomJhA"
      },
      "execution_count": null,
      "outputs": []
    },
    {
      "cell_type": "code",
      "source": [],
      "metadata": {
        "id": "YiKz4eaFk9KU"
      },
      "execution_count": null,
      "outputs": []
    }
  ]
}